{
 "cells": [
  {
   "cell_type": "markdown",
   "metadata": {},
   "source": [
    "# HUtil: Basic Usage Examples\n",
    "\n",
    "This notebook demonstrates the basic usage of the `hutil` package for working with HEALPix datasets in xarray. We'll show how to use the package both with direct function calls and with the xarray accessor."
   ]
  },
  {
   "cell_type": "markdown",
   "metadata": {},
   "source": [
    "## Setup\n",
    "\n",
    "First, let's import the necessary packages and create a simple HEALPix dataset for demonstration."
   ]
  },
  {
   "cell_type": "code",
   "execution_count": null,
   "metadata": {},
   "outputs": [],
   "source": [
    "import numpy as np\n",
    "import xarray as xr\n",
    "import healpy as hp\n",
    "import matplotlib.pyplot as plt\n",
    "import cartopy.crs as ccrs\n",
    "\n",
    "# Import hutil\n",
    "import hutil\n",
    "from hutil import selection"
   ]
  },
  {
   "cell_type": "code",
   "execution_count": null,
   "metadata": {},
   "outputs": [],
   "source": [
    "# Create a simple HEALPix dataset for demonstration\n",
    "nside = 32  # Lower resolution for faster computation\n",
    "npix = hp.nside2npix(nside)\n",
    "nest = True\n",
    "\n",
    "# Create some test data - a temperature field with a hotspot\n",
    "lats, lons = hp.pix2ang(nside, np.arange(npix), nest=nest, lonlat=True)\n",
    "\n",
    "# Create a temperature field with a hotspot at (0, 0)\n",
    "hotspot_lat, hotspot_lon = 0, 0\n",
    "dist = np.sqrt((lats - hotspot_lat)**2 + (lons - hotspot_lon)**2)\n",
    "temperature = 20 + 10 * np.exp(-dist**2 / 1000)  # Base temperature + hotspot\n",
    "\n",
    "# Create a dataset\n",
    "ds = xr.Dataset(\n",
    "    data_vars={\n",
    "        'temperature': ('cell', temperature),\n",
    "        'humidity': ('cell', 50 + 20 * np.sin(np.radians(lats)))  # Humidity varies with latitude\n",
    "    },\n",
    "    coords={\n",
    "        'cell': np.arange(npix)\n",
    "    },\n",
    "    attrs={\n",
    "        'nside': nside,\n",
    "        'nest': nest\n",
    "    }\n",
    ")\n",
    "\n",
    "print(f'Created HEALPix dataset with nside={nside}, npix={npix}')\n",
    "ds"
   ]
  },
  {
   "cell_type": "markdown",
   "metadata": {},
   "source": [
    "## Method 1: Using Direct Function Calls\n",
    "\n",
    "First, let's demonstrate how to use the hutil functions directly."
   ]
  },
  {
   "cell_type": "code",
   "execution_count": null,
   "metadata": {},
   "outputs": [],
   "source": [
    "# Get HEALPix information from the dataset\n",
    "nside, nest, npix = selection.get_healpix_info(ds)\n",
    "print(f'HEALPix info: nside={nside}, nest={nest}, npix={npix}')"
   ]
  },
  {
   "cell_type": "code",
   "execution_count": null,
   "metadata": {},
   "outputs": [],
   "source": [
    "# Add latitude and longitude coordinates to the dataset\n",
    "ds_with_latlon = selection.add_latlon_coords(ds)\n",
    "print('Added lat/lon coordinates to dataset')\n",
    "ds_with_latlon"
   ]
  },
  {
   "cell_type": "code",
   "execution_count": null,
   "metadata": {},
   "outputs": [],
   "source": [
    "# Plot the original dataset\n",
    "selection.plot_healpix_selection(ds_with_latlon, title='Temperature (°C)', cmap='inferno')"
   ]
  },
  {
   "cell_type": "markdown",
   "metadata": {},
   "source": [
    "### Selecting Data at a Specific Latitude\n",
    "\n",
    "Let's select data along the equator (latitude = 0°)."
   ]
  },
  {
   "cell_type": "code",
   "execution_count": null,
   "metadata": {},
   "outputs": [],
   "source": [
    "# Select data at the equator (latitude = 0°)\n",
    "equator_data = selection.select_at_latitude(ds_with_latlon, latitude=0, tolerance=2.0)\n",
    "print(f'Selected {len(equator_data.cell)} points at the equator')\n",
    "\n",
    "# Plot the selected data\n",
    "selection.plot_healpix_selection(equator_data, title='Temperature at Equator (°C)', cmap='inferno')"
   ]
  },
  {
   "cell_type": "markdown",
   "metadata": {},
   "source": [
    "### Selecting Data at a Specific Longitude\n",
    "\n",
    "Now let's select data along the prime meridian (longitude = 0°)."
   ]
  },
  {
   "cell_type": "code",
   "execution_count": null,
   "metadata": {},
   "outputs": [],
   "source": [
    "# Select data at the prime meridian (longitude = 0°)\n",
    "meridian_data = selection.select_at_longitude(ds_with_latlon, longitude=0, tolerance=2.0)\n",
    "print(f'Selected {len(meridian_data.cell)} points at the prime meridian')\n",
    "\n",
    "# Plot the selected data\n",
    "selection.plot_healpix_selection(meridian_data, title='Temperature at Prime Meridian (°C)', cmap='inferno')"
   ]
  },
  {
   "cell_type": "markdown",
   "metadata": {},
   "source": [
    "### Selecting Data at Specific Points\n",
    "\n",
    "Let's select data at specific latitude/longitude points."
   ]
  },
  {
   "cell_type": "code",
   "execution_count": null,
   "metadata": {},
   "outputs": [],
   "source": [
    "# Define some points of interest\n",
    "points = [(0, 0), (30, 30), (-30, -30), (45, -45), (-45, 45)]\n",
    "\n",
    "# Select data at these points\n",
    "point_data = selection.select_at_points(ds_with_latlon, points)\n",
    "print(f'Selected {len(point_data.cell)} points')\n",
    "\n",
    "# Plot the selected data\n",
    "selection.plot_healpix_selection(point_data, title='Temperature at Selected Points (°C)', cmap='inferno')"
   ]
  },
  {
   "cell_type": "markdown",
   "metadata": {},
   "source": [
    "### Selecting Data in a Region\n",
    "\n",
    "Let's select data within a rectangular region."
   ]
  },
  {
   "cell_type": "code",
   "execution_count": null,
   "metadata": {},
   "outputs": [],
   "source": [
    "# Select data in a rectangular region\n",
    "region_data = selection.select_region(\n",
    "    ds_with_latlon,\n",
    "    lat_min=0, lat_max=45,\n",
    "    lon_min=0, lon_max=45\n",
    ")\n",
    "print(f'Selected {len(region_data.cell)} points in the region')\n",
    "\n",
    "# Plot the selected data\n",
    "selection.plot_healpix_selection(region_data, title='Temperature in Region (°C)', cmap='inferno')"
   ]
  },
  {
   "cell_type": "markdown",
   "metadata": {},
   "source": [
    "### Selecting Data within a Polygon\n",
    "\n",
    "Let's select data within a polygon."
   ]
  },
  {
   "cell_type": "code",
   "execution_count": null,
   "metadata": {},
   "outputs": [],
   "source": [
    "# Define a polygon (triangle)\n",
    "polygon = [(0, 0), (30, 30), (0, 30)]\n",
    "\n",
    "# Select data within the polygon\n",
    "polygon_data = selection.select_within_polygon(ds_with_latlon, polygon)\n",
    "print(f'Selected {len(polygon_data.cell)} points within the polygon')\n",
    "\n",
    "# Plot the selected data\n",
    "selection.plot_healpix_selection(polygon_data, title='Temperature within Polygon (°C)', cmap='inferno')"
   ]
  },
  {
   "cell_type": "markdown",
   "metadata": {},
   "source": [
    "### Interpolating to a Regular Grid\n",
    "\n",
    "Let's interpolate the HEALPix data to a regular lat/lon grid."
   ]
  },
  {
   "cell_type": "code",
   "execution_count": null,
   "metadata": {},
   "outputs": [],
   "source": [
    "# Interpolate temperature to a regular grid\n",
    "grid_data = selection.interpolate_to_grid(\n",
    "    ds_with_latlon, \n",
    "    var_name='temperature',\n",
    "    lat_res=2.0, lon_res=2.0,\n",
    "    method='nearest'\n",
    ")\n",
    "\n",
    "# Plot the interpolated data\n",
    "plt.figure(figsize=(10, 6))\n",
    "ax = plt.axes(projection=ccrs.PlateCarree())\n",
    "im = grid_data.plot(ax=ax, transform=ccrs.PlateCarree(), cmap='inferno')\n",
    "ax.coastlines()\n",
    "ax.gridlines(draw_labels=True)\n",
    "plt.title('Interpolated Temperature (°C)')\n",
    "plt.show()"
   ]
  },
  {
   "cell_type": "markdown",
   "metadata": {},
   "source": [
    "### Using the Smart Select Function\n",
    "\n",
    "The `select` function automatically chooses the appropriate selection method based on the input parameters."
   ]
  },
  {
   "cell_type": "code",
   "execution_count": null,
   "metadata": {},
   "outputs": [],
   "source": [
    "# Select at a latitude\n",
    "lat_data = selection.select(ds_with_latlon, lat=0)\n",
    "print(f'Selected {len(lat_data.cell)} points at latitude 0°')\n",
    "\n",
    "# Select at a longitude\n",
    "lon_data = selection.select(ds_with_latlon, lon=0)\n",
    "print(f'Selected {len(lon_data.cell)} points at longitude 0°')\n",
    "\n",
    "# Select at a point\n",
    "point_data = selection.select(ds_with_latlon, lat=0, lon=0)\n",
    "print(f'Selected {len(point_data.cell)} points at (0°, 0°)')\n",
    "\n",
    "# Select a region\n",
    "region_data = selection.select(ds_with_latlon, lat=slice(0, 45), lon=slice(0, 45))\n",
    "print(f'Selected {len(region_data.cell)} points in region')"
   ]
  },
  {
   "cell_type": "markdown",
   "metadata": {},
   "source": [
    "## Method 2: Using the xarray Accessor\n",
    "\n",
    "Now let's demonstrate how to use the hutil accessor with xarray datasets."
   ]
  },
  {
   "cell_type": "code",
   "execution_count": null,
   "metadata": {},
   "outputs": [],
   "source": [
    "# Get HEALPix information using the accessor\n",
    "nside, nest, npix = ds.hutil.get_info()\n",
    "print(f'HEALPix info: nside={nside}, nest={nest}, npix={npix}')"
   ]
  },
  {
   "cell_type": "code",
   "execution_count": null,
   "metadata": {},
   "outputs": [],
   "source": [
    "# Add latitude and longitude coordinates using the accessor\n",
    "ds_accessor = ds.hutil.add_latlon_coords()\n",
    "print('Added lat/lon coordinates to dataset using accessor')\n",
    "ds_accessor"
   ]
  },
  {
   "cell_type": "code",
   "execution_count": null,
   "metadata": {},
   "outputs": [],
   "source": [
    "# Plot the dataset using the accessor\n",
    "ds_accessor.hutil.plot(title='Temperature (°C) - Accessor', cmap='inferno')"
   ]
  },
  {
   "cell_type": "markdown",
   "metadata": {},
   "source": [
    "### Selecting Data at a Specific Latitude\n",
    "\n",
    "Let's select data along the equator using the accessor."
   ]
  },
  {
   "cell_type": "code",
   "execution_count": null,
   "metadata": {},
   "outputs": [],
   "source": [
    "# Select data at the equator using the accessor\n",
    "equator_data = ds_accessor.hutil.select_at_latitude(latitude=0, tolerance=2.0)\n",
    "print(f'Selected {len(equator_data.cell)} points at the equator')\n",
    "\n",
    "# Plot the selected data using the accessor\n",
    "equator_data.hutil.plot(title='Temperature at Equator (°C) - Accessor', cmap='inferno')"
   ]
  },
  {
   "cell_type": "markdown",
   "metadata": {},
   "source": [
    "### Selecting Data at a Specific Longitude\n",
    "\n",
    "Now let's select data along the prime meridian using the accessor."
   ]
  },
  {
   "cell_type": "code",
   "execution_count": null,
   "metadata": {},
   "outputs": [],
   "source": [
    "# Select data at the prime meridian using the accessor\n",
    "meridian_data = ds_accessor.hutil.select_at_longitude(longitude=0, tolerance=2.0)\n",
    "print(f'Selected {len(meridian_data.cell)} points at the prime meridian')\n",
    "\n",
    "# Plot the selected data using the accessor\n",
    "meridian_data.hutil.plot(title='Temperature at Prime Meridian (°C) - Accessor', cmap='inferno')"
   ]
  },
  {
   "cell_type": "markdown",
   "metadata": {},
   "source": [
    "### Selecting Data at Specific Points\n",
    "\n",
    "Let's select data at specific latitude/longitude points using the accessor."
   ]
  },
  {
   "cell_type": "code",
   "execution_count": null,
   "metadata": {},
   "outputs": [],
   "source": [
    "# Define some points of interest\n",
    "points = [(0, 0), (30, 30), (-30, -30), (45, -45), (-45, 45)]\n",
    "\n",
    "# Select data at these points using the accessor\n",
    "point_data = ds_accessor.hutil.select_at_points(points)\n",
    "print(f'Selected {len(point_data.cell)} points')\n",
    "\n",
    "# Plot the selected data using the accessor\n",
    "point_data.hutil.plot(title='Temperature at Selected Points (°C) - Accessor', cmap='inferno')"
   ]
  },
  {
   "cell_type": "markdown",
   "metadata": {},
   "source": [
    "### Selecting Data in a Region\n",
    "\n",
    "Let's select data within a rectangular region using the accessor."
   ]
  },
  {
   "cell_type": "code",
   "execution_count": null,
   "metadata": {},
   "outputs": [],
   "source": [
    "# Select data in a rectangular region using the accessor\n",
    "region_data = ds_accessor.hutil.select_region(\n",
    "    lat_min=0, lat_max=45,\n",
    "    lon_min=0, lon_max=45\n",
    ")\n",
    "print(f'Selected {len(region_data.cell)} points in the region')\n",
    "\n",
    "# Plot the selected data using the accessor\n",
    "region_data.hutil.plot(title='Temperature in Region (°C) - Accessor', cmap='inferno')"
   ]
  },
  {
   "cell_type": "markdown",
   "metadata": {},
   "source": [
    "### Selecting Data within a Polygon\n",
    "\n",
    "Let's select data within a polygon using the accessor."
   ]
  },
  {
   "cell_type": "code",
   "execution_count": null,
   "metadata": {},
   "outputs": [],
   "source": [
    "# Define a polygon (triangle)\n",
    "polygon = [(0, 0), (30, 30), (0, 30)]\n",
    "\n",
    "# Select data within the polygon using the accessor\n",
    "polygon_data = ds_accessor.hutil.select_within_polygon(polygon)\n",
    "print(f'Selected {len(polygon_data.cell)} points within the polygon')\n",
    "\n",
    "# Plot the selected data using the accessor\n",
    "polygon_data.hutil.plot(title='Temperature within Polygon (°C) - Accessor', cmap='inferno')"
   ]
  },
  {
   "cell_type": "markdown",
   "metadata": {},
   "source": [
    "### Interpolating to a Regular Grid\n",
    "\n",
    "Let's interpolate the HEALPix data to a regular lat/lon grid using the accessor."
   ]
  },
  {
   "cell_type": "code",
   "execution_count": null,
   "metadata": {},
   "outputs": [],
   "source": [
    "# Interpolate temperature to a regular grid using the accessor\n",
    "grid_data = ds_accessor.temperature.hutil.interpolate_to_grid(\n",
    "    lat_res=2.0, lon_res=2.0,\n",
    "    method='nearest'\n",
    ")\n",
    "\n",
    "# Plot the interpolated data\n",
    "plt.figure(figsize=(10, 6))\n",
    "ax = plt.axes(projection=ccrs.PlateCarree())\n",
    "im = grid_data.plot(ax=ax, transform=ccrs.PlateCarree(), cmap='inferno')\n",
    "ax.coastlines()\n",
    "ax.gridlines(draw_labels=True)\n",
    "plt.title('Interpolated Temperature (°C) - Accessor')\n",
    "plt.show()"
   ]
  },
  {
   "cell_type": "markdown",
   "metadata": {},
   "source": [
    "### Using the Smart Select Function with the Accessor\n",
    "\n",
    "The `select` method on the accessor also automatically chooses the appropriate selection method based on the input parameters."
   ]
  },
  {
   "cell_type": "code",
   "execution_count": null,
   "metadata": {},
   "outputs": [],
   "source": [
    "# Select at a latitude using the accessor\n",
    "lat_data = ds_accessor.hutil.select(lat=0)\n",
    "print(f'Selected {len(lat_data.cell)} points at latitude 0°')\n",
    "\n",
    "# Select at a longitude using the accessor\n",
    "lon_data = ds_accessor.hutil.select(lon=0)\n",
    "print(f'Selected {len(lon_data.cell)} points at longitude 0°')\n",
    "\n",
    "# Select at a point using the accessor\n",
    "point_data = ds_accessor.hutil.select(lat=0, lon=0)\n",
    "print(f'Selected {len(point_data.cell)} points at (0°, 0°)')\n",
    "\n",
    "# Select a region using the accessor\n",
    "region_data = ds_accessor.hutil.select(lat=slice(0, 45), lon=slice(0, 45))\n",
    "print(f'Selected {len(region_data.cell)} points in region')"
   ]
  },
  {
   "cell_type": "markdown",
   "metadata": {},
   "source": [
    "## Working with DataArrays\n",
    "\n",
    "The hutil accessor also works with xarray DataArrays, not just Datasets."
   ]
  },
  {
   "cell_type": "code",
   "execution_count": null,
   "metadata": {},
   "outputs": [],
   "source": [
    "# Get a DataArray from the dataset\n",
    "temperature = ds.temperature\n",
    "\n",
    "# Add lat/lon coordinates using the accessor\n",
    "temperature_with_latlon = temperature.hutil.add_latlon_coords()\n",
    "\n",
    "# Select data at the equator using the accessor\n",
    "equator_temp = temperature_with_latlon.hutil.select_at_latitude(latitude=0, tolerance=2.0)\n",
    "print(f'Selected {len(equator_temp.cell)} temperature points at the equator')\n",
    "\n",
    "# Plot the selected data\n",
    "equator_temp.hutil.plot(title='Temperature at Equator (°C) - DataArray', cmap='inferno')"
   ]
  },
  {
   "cell_type": "markdown",
   "metadata": {},
   "source": [
    "## Conclusion\n",
    "\n",
    "This notebook has demonstrated the basic usage of the `hutil` package for working with HEALPix datasets in xarray. We've shown how to use the package both with direct function calls and with the xarray accessor, which provides a more convenient and intuitive interface for working with HEALPix data."
   ]
  }
 ],
 "metadata": {
  "kernelspec": {
   "display_name": "Python 3",
   "language": "python",
   "name": "python3"
  },
  "language_info": {
   "codemirror_mode": {
    "name": "ipython",
    "version": 3
   },
   "file_extension": ".py",
   "mimetype": "text/x-python",
   "name": "python",
   "nbconvert_exporter": "python",
   "pygments_lexer": "ipython3",
   "version": "3.8.10"
  }
 }
}
