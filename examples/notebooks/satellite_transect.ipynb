{
 "cells": [
  {
   "cell_type": "markdown",
   "metadata": {},
   "source": [
    "# Creating Satellite Transects with HUtil\n",
    "\n",
    "This notebook demonstrates how to create a transect from satellite orbit data using the `hutil` package. We'll use a real satellite orbit file and show how to extract data along the satellite track from a HEALPix dataset."
   ]
  },
  {
   "cell_type": "markdown",
   "metadata": {},
   "source": [
    "## Setup\n",
    "\n",
    "First, let's import the necessary packages and load the satellite orbit data."
   ]
  },
  {
   "cell_type": "code",
   "execution_count": null,
   "metadata": {},
   "outputs": [],
   "source": [
    "import os\n",
    "import numpy as np\n",
    "import xarray as xr\n",
    "import healpy as hp\n",
    "import matplotlib.pyplot as plt\n",
    "import cartopy.crs as ccrs\n",
    "import datetime\n",
    "from pathlib import Path\n",
    "\n",
    "# Import hutil\n",
    "import hutil\n",
    "from hutil import selection"
   ]
  },
  {
   "cell_type": "code",
   "execution_count": null,
   "metadata": {},
   "outputs": [],
   "source": [
    "# Load the satellite orbit data\n",
    "data_dir = Path(hutil.__file__).parent / 'data'\n",
    "orbit_file = data_dir / 'ECA_J_CPR_NOM_1BS_20240617T1356_20240617T1407_00306F_vAb_location.nc'\n",
    "\n",
    "orbit_data = xr.open_dataset(orbit_file)\n",
    "print(f'Loaded orbit data from {orbit_file.name}')\n",
    "orbit_data"
   ]
  },
  {
   "cell_type": "markdown",
   "metadata": {},
   "source": [
    "Let's examine the orbit data to understand its structure."
   ]
  },
  {
   "cell_type": "code",
   "execution_count": null,
   "metadata": {},
   "outputs": [],
   "source": [
    "# Extract latitude, longitude, and time from the orbit data\n",
    "lats = orbit_data.latitude.values\n",
    "lons = orbit_data.longitude.values\n",
    "times = orbit_data.time.values\n",
    "\n",
    "print(f'Orbit data contains {len(lats)} points')\n",
    "print(f'Latitude range: {lats.min():.2f}° to {lats.max():.2f}°')\n",
    "print(f'Longitude range: {lons.min():.2f}° to {lons.max():.2f}°')\n",
    "print(f'Time range: {np.datetime_as_string(times[0])} to {np.datetime_as_string(times[-1])}')"
   ]
  },
  {
   "cell_type": "markdown",
   "metadata": {},
   "source": [
    "Let's visualize the satellite orbit track on a map."
   ]
  },
  {
   "cell_type": "code",
   "execution_count": null,
   "metadata": {},
   "outputs": [],
   "source": [
    "# Plot the satellite orbit track\n",
    "plt.figure(figsize=(12, 8))\n",
    "ax = plt.axes(projection=ccrs.PlateCarree())\n",
    "ax.coastlines()\n",
    "ax.gridlines(draw_labels=True)\n",
    "\n",
    "# Plot the orbit track\n",
    "ax.plot(lons, lats, 'r-', transform=ccrs.PlateCarree(), linewidth=2, label='Satellite Track')\n",
    "ax.scatter(lons[0], lats[0], color='green', s=100, label='Start', transform=ccrs.PlateCarree())\n",
    "ax.scatter(lons[-1], lats[-1], color='blue', s=100, label='End', transform=ccrs.PlateCarree())\n",
    "\n",
    "plt.title('Satellite Orbit Track')\n",
    "plt.legend()\n",
    "plt.show()"
   ]
  },
  {
   "cell_type": "markdown",
   "metadata": {},
   "source": [
    "## Create a HEALPix Dataset\n",
    "\n",
    "Now let's create a synthetic HEALPix dataset to demonstrate how to extract data along the satellite track. We'll create a temperature field that varies with latitude and longitude."
   ]
  },
  {
   "cell_type": "code",
   "execution_count": null,
   "metadata": {},
   "outputs": [],
   "source": [
    "# Create a HEALPix dataset\n",
    "nside = 128  # Higher resolution for better transect\n",
    "npix = hp.nside2npix(nside)\n",
    "nest = True\n",
    "\n",
    "# Get the latitude and longitude for each HEALPix pixel\n",
    "hp_lats, hp_lons = hp.pix2ang(nside, np.arange(npix), nest=nest, lonlat=True)\n",
    "\n",
    "# Create a temperature field that varies with latitude and longitude\n",
    "# Base temperature + latitudinal gradient + longitudinal wave\n",
    "temperature = 15 + 30 * np.cos(np.radians(hp_lats)) + 5 * np.sin(np.radians(hp_lons))\n",
    "\n",
    "# Create a dataset with a time dimension (we'll use the satellite time range)\n",
    "start_time = np.datetime64(times[0])\n",
    "end_time = np.datetime64(times[-1])\n",
    "time_range = np.linspace(0, 1, 10)  # 10 time steps\n",
    "time_values = start_time + (end_time - start_time) * time_range\n",
    "\n",
    "# Create a time-varying temperature field\n",
    "temp_time = np.zeros((len(time_values), npix))\n",
    "for i, t in enumerate(time_range):\n",
    "    # Add a time-varying component (warming over time)\n",
    "    temp_time[i, :] = temperature + 2 * t  # Temperature increases by 2°C over the time period\n",
    "\n",
    "# Create the dataset\n",
    "ds = xr.Dataset(\n",
    "    data_vars={\n",
    "        'temperature': (['time', 'cell'], temp_time)\n",
    "    },\n",
    "    coords={\n",
    "        'time': time_values,\n",
    "        'cell': np.arange(npix)\n",
    "    },\n",
    "    attrs={\n",
    "        'nside': nside,\n",
    "        'nest': nest\n",
    "    }\n",
    ")\n",
    "\n",
    "print(f'Created HEALPix dataset with nside={nside}, npix={npix}, and {len(time_values)} time steps')\n",
    "ds"
   ]
  },
  {
   "cell_type": "markdown",
   "metadata": {},
   "source": [
    "Let's add latitude and longitude coordinates to the dataset."
   ]
  },
  {
   "cell_type": "code",
   "execution_count": null,
   "metadata": {},
   "outputs": [],
   "source": [
    "# Add latitude and longitude coordinates to the dataset\n",
    "ds_with_latlon = ds.hutil.add_latlon_coords()\n",
    "print('Added lat/lon coordinates to dataset')\n",
    "ds_with_latlon"
   ]
  },
  {
   "cell_type": "markdown",
   "metadata": {},
   "source": [
    "Let's visualize the temperature field at the first time step."
   ]
  },
  {
   "cell_type": "code",
   "execution_count": null,
   "metadata": {},
   "outputs": [],
   "source": [
    "# Select the first time step\n",
    "ds_t0 = ds_with_latlon.sel(time=ds_with_latlon.time[0])\n",
    "\n",
    "# Plot the temperature field\n",
    "ds_t0.hutil.plot(title=f'Temperature at {np.datetime_as_string(ds_t0.time.values, unit="m")} (°C)', cmap='inferno')"
   ]
  },
  {
   "cell_type": "markdown",
   "metadata": {},
   "source": [
    "## Method 1: Create a Transect Using Direct Function Calls\n",
    "\n",
    "Now let's create a transect along the satellite track using the direct function calls."
   ]
  },
  {
   "cell_type": "code",
   "execution_count": null,
   "metadata": {},
   "outputs": [],
   "source": [
    "# For demonstration, let's use a subset of the orbit points to make the example faster\n",
    "# In a real application, you might want to use all points\n",
    "step = 10  # Use every 10th point\n",
    "subset_lats = lats[::step]\n",
    "subset_lons = lons[::step]\n",
    "subset_times = times[::step]\n",
    "\n",
    "print(f'Using {len(subset_lats)} points for the transect')\n",
    "\n",
    "# Create a transect along the satellite track\n",
    "transect = selection.select_transect(\n",
    "    ds_with_latlon,\n",
    "    lats=subset_lats,\n",
    "    lons=subset_lons,\n",
    "    times=subset_times,\n",
    "    method='nearest'\n",
    ")\n",
    "\n",
    "print(f'Created transect with {len(transect.point)} points')\n",
    "transect"
   ]
  },
  {
   "cell_type": "markdown",
   "metadata": {},
   "source": [
    "Let's visualize the transect on a map."
   ]
  },
  {
   "cell_type": "code",
   "execution_count": null,
   "metadata": {},
   "outputs": [],
   "source": [
    "# Plot the transect on a map\n",
    "plt.figure(figsize=(12, 8))\n",
    "ax = plt.axes(projection=ccrs.PlateCarree())\n",
    "ax.coastlines()\n",
    "ax.gridlines(draw_labels=True)\n",
    "\n",
    "# Plot the full orbit track\n",
    "ax.plot(lons, lats, 'k-', transform=ccrs.PlateCarree(), linewidth=1, alpha=0.5, label='Full Orbit')\n",
    "\n",
    "# Plot the transect points\n",
    "scatter = ax.scatter(\n",
    "    transect.lon.values, \n",
    "    transect.lat.values, \n",
    "    c=transect.temperature.values, \n",
    "    cmap='inferno',\n",
    "    s=50, \n",
    "    transform=ccrs.PlateCarree(),\n",
    "    label='Transect Points'\n",
    ")\n",
    "\n",
    "# Add a colorbar\n",
    "cbar = plt.colorbar(scatter, ax=ax, orientation='horizontal', pad=0.05, shrink=0.8)\n",
    "cbar.set_label('Temperature (°C)')\n",
    "\n",
    "plt.title('Satellite Transect')\n",
    "plt.legend()\n",
    "plt.show()"
   ]
  },
  {
   "cell_type": "markdown",
   "metadata": {},
   "source": [
    "Now let's plot the temperature along the transect as a function of distance."
   ]
  },
  {
   "cell_type": "code",
   "execution_count": null,
   "metadata": {},
   "outputs": [],
   "source": [
    "# Calculate the distance along the transect\n",
    "def haversine_distance(lat1, lon1, lat2, lon2):\n",
    "    \"\"\"\n",
    "    Calculate the great circle distance between two points\n",
    "    on the earth (specified in decimal degrees)\n",
    "    \"\"\"\n",
    "    # Convert decimal degrees to radians\n",
    "    lat1, lon1, lat2, lon2 = map(np.radians, [lat1, lon1, lat2, lon2])\n",
    "    \n",
    "    # Haversine formula\n",
    "    dlon = lon2 - lon1\n",
    "    dlat = lat2 - lat1\n",
    "    a = np.sin(dlat/2)**2 + np.cos(lat1) * np.cos(lat2) * np.sin(dlon/2)**2\n",
    "    c = 2 * np.arcsin(np.sqrt(a))\n",
    "    r = 6371  # Radius of earth in kilometers\n",
    "    return c * r\n",
    "\n",
    "# Calculate the distance along the transect\n",
    "transect_lats = transect.lat.values\n",
    "transect_lons = transect.lon.values\n",
    "\n",
    "distances = [0]  # Start with 0 km\n",
    "for i in range(1, len(transect_lats)):\n",
    "    d = haversine_distance(\n",
    "        transect_lats[i-1], transect_lons[i-1],\n",
    "        transect_lats[i], transect_lons[i]\n",
    "    )\n",
    "    distances.append(distances[-1] + d)\n",
    "\n",
    "# Plot the temperature along the transect\n",
    "plt.figure(figsize=(12, 6))\n",
    "plt.plot(distances, transect.temperature.values, 'r-', linewidth=2)\n",
    "plt.scatter(distances, transect.temperature.values, c=transect.temperature.values, cmap='inferno', s=50)\n",
    "plt.xlabel('Distance along transect (km)')\n",
    "plt.ylabel('Temperature (°C)')\n",
    "plt.title('Temperature along Satellite Transect')\n",
    "plt.grid(True)\n",
    "plt.colorbar(label='Temperature (°C)')\n",
    "plt.show()"
   ]
  },
  {
   "cell_type": "markdown",
   "metadata": {},
   "source": [
    "## Method 2: Create a Transect Using the Accessor\n",
    "\n",
    "Now let's create the same transect using the xarray accessor."
   ]
  },
  {
   "cell_type": "code",
   "execution_count": null,
   "metadata": {},
   "outputs": [],
   "source": [
    "# Create a transect along the satellite track using the accessor\n",
    "transect_accessor = ds_with_latlon.hutil.select_transect(\n",
    "    lats=subset_lats,\n",
    "    lons=subset_lons,\n",
    "    times=subset_times,\n",
    "    method='nearest'\n",
    ")\n",
    "\n",
    "print(f'Created transect with {len(transect_accessor.point)} points using accessor')\n",
    "transect_accessor"
   ]
  },
  {
   "cell_type": "markdown",
   "metadata": {},
   "source": [
    "Let's verify that both methods give the same result."
   ]
  },
  {
   "cell_type": "code",
   "execution_count": null,
   "metadata": {},
   "outputs": [],
   "source": [
    "# Check if the transects are identical\n",
    "identical = np.allclose(transect.temperature.values, transect_accessor.temperature.values)\n",
    "print(f'Transects are identical: {identical}')"
   ]
  },
  {
   "cell_type": "markdown",
   "metadata": {},
   "source": [
    "## Selecting Data within Uganda\n",
    "\n",
    "Now let's demonstrate how to select data within a shapefile, specifically for Uganda."
   ]
  },
  {
   "cell_type": "code",
   "execution_count": null,
   "metadata": {},
   "outputs": [],
   "source": [
    "# Path to the Uganda shapefile\n",
    "uganda_shapefile = data_dir / 'combined_uganda.shp'\n",
    "\n",
    "# Select data within Uganda using the direct function call\n",
    "uganda_data = selection.select_within_shapefile(ds_with_latlon.isel(time=0), uganda_shapefile)\n",
    "\n",
    "print(f'Selected {len(uganda_data.cell)} points within Uganda')\n",
    "uganda_data"
   ]
  },
  {
   "cell_type": "code",
   "execution_count": null,
   "metadata": {},
   "outputs": [],
   "source": [
    "# Plot the data within Uganda\n",
    "uganda_data.hutil.plot(title='Temperature in Uganda (°C)', cmap='inferno')"
   ]
  },
  {
   "cell_type": "markdown",
   "metadata": {},
   "source": [
    "Now let's do the same using the accessor."
   ]
  },
  {
   "cell_type": "code",
   "execution_count": null,
   "metadata": {},
   "outputs": [],
   "source": [
    "# Select data within Uganda using the accessor\n",
    "uganda_data_accessor = ds_with_latlon.isel(time=0).hutil.select_within_shapefile(uganda_shapefile)\n",
    "\n",
    "print(f'Selected {len(uganda_data_accessor.cell)} points within Uganda using accessor')\n",
    "uganda_data_accessor"
   ]
  },
  {
   "cell_type": "code",
   "execution_count": null,
   "metadata": {},
   "outputs": [],
   "source": [
    "# Plot the data within Uganda using the accessor\n",
    "uganda_data_accessor.hutil.plot(title='Temperature in Uganda (°C) - Accessor', cmap='inferno')"
   ]
  },
  {
   "cell_type": "markdown",
   "metadata": {},
   "source": [
    "## Conclusion\n",
    "\n",
    "This notebook has demonstrated how to create a transect from satellite orbit data using the `hutil` package. We've shown how to use both direct function calls and the xarray accessor to select data along a satellite track and within a shapefile. These techniques can be applied to real HEALPix datasets to extract data along satellite tracks or within specific regions."
   ]
  }
 ],
 "metadata": {
  "kernelspec": {
   "display_name": "Python 3",
   "language": "python",
   "name": "python3"
  },
  "language_info": {
   "codemirror_mode": {
    "name": "ipython",
    "version": 3
   },
   "file_extension": ".py",
   "mimetype": "text/x-python",
   "name": "python",
   "nbconvert_exporter": "python",
   "pygments_lexer": "ipython3",
   "version": "3.8.10"
  }
 }
}
